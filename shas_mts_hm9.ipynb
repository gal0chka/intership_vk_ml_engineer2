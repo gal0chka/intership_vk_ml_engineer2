{
 "cells": [
  {
   "cell_type": "code",
   "execution_count": null,
   "metadata": {},
   "outputs": [
    {
     "data": {
      "text/plain": [
       "(-25.636363636363637,\n",
       " array([ 0.54545455,  8.18181818,  0.        ,  0.        , 23.09090909,\n",
       "         0.        ]))"
      ]
     },
     "execution_count": 2,
     "metadata": {},
     "output_type": "execute_result"
    }
   ],
   "source": [
    "from scipy.optimize import linprog\n",
    "\n",
    "c = [-2, -3, 0, 1, 0, 0]  # (L' = -2x1 - 3x2 + x4)\n",
    "\n",
    "\n",
    "A_eq = [\n",
    "    [2, -1, 0, -2, 1, 0],\n",
    "    [3, 2, 1, -3, 0, 0],\n",
    "    [-1, 3, 0, 4, 0, 1]\n",
    "]\n",
    "\n",
    "b_eq = [16, 18, 24]\n",
    "\n",
    "x_bounds = [(0, None)] * 6\n",
    "\n",
    "result = linprog(c, A_eq=A_eq, b_eq=b_eq, bounds=x_bounds, method='highs')\n",
    "\n",
    "optimal_value = result.fun \n",
    "optimal_variables = result.x \n",
    "optimal_value, optimal_variables\n"
   ]
  },
  {
   "cell_type": "code",
   "execution_count": null,
   "metadata": {},
   "outputs": [],
   "source": []
  }
 ],
 "metadata": {
  "kernelspec": {
   "display_name": ".venv",
   "language": "python",
   "name": "python3"
  },
  "language_info": {
   "codemirror_mode": {
    "name": "ipython",
    "version": 3
   },
   "file_extension": ".py",
   "mimetype": "text/x-python",
   "name": "python",
   "nbconvert_exporter": "python",
   "pygments_lexer": "ipython3",
   "version": "3.11.4"
  }
 },
 "nbformat": 4,
 "nbformat_minor": 2
}
