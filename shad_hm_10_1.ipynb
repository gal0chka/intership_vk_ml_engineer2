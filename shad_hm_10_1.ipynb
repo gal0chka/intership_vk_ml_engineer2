{
 "cells": [
  {
   "cell_type": "code",
   "execution_count": 2,
   "metadata": {},
   "outputs": [
    {
     "data": {
      "text/plain": [
       "(array([-1.11022302e-16, -1.11022302e-16, -1.11022302e-16, -1.11022302e-16,\n",
       "        -1.11022302e-16]),\n",
       " 6.162975822039155e-32)"
      ]
     },
     "execution_count": 2,
     "metadata": {},
     "output_type": "execute_result"
    }
   ],
   "source": [
    "\n",
    "import numpy as np\n",
    "from scipy.optimize import minimize\n",
    "\n",
    "def objective(x):\n",
    "    return np.sum(x**2)\n",
    "\n",
    "def constraint(x):\n",
    "    return 1 - np.sum(x**4)\n",
    "\n",
    "n = 5 \n",
    "\n",
    "x0 = np.ones(n) * (1 / n**0.25)  \n",
    "\n",
    "con = {'type': 'ineq', 'fun': constraint}\n",
    "\n",
    "bounds = [(-1, 1) for _ in range(n)]\n",
    "\n",
    "result = minimize(objective, x0, bounds=bounds, constraints=con, method='SLSQP')\n",
    "\n",
    "optimal_x = result.x\n",
    "optimal_value = result.fun\n",
    "\n",
    "optimal_x, optimal_value\n"
   ]
  },
  {
   "cell_type": "code",
   "execution_count": 3,
   "metadata": {},
   "outputs": [
    {
     "data": {
      "text/plain": [
       "(array([0.6687403, 0.6687403, 0.6687403, 0.6687403, 0.6687403]),\n",
       " 2.23606797749979)"
      ]
     },
     "execution_count": 3,
     "metadata": {},
     "output_type": "execute_result"
    }
   ],
   "source": [
    "def negative_objective(x):\n",
    "    return -np.sum(x**2)\n",
    "\n",
    "result_max = minimize(negative_objective, x0, bounds=bounds, constraints=con, method='SLSQP')\n",
    "\n",
    "optimal_x_max = result_max.x\n",
    "optimal_value_max = -result_max.fun\n",
    "\n",
    "optimal_x_max, optimal_value_max"
   ]
  },
  {
   "cell_type": "code",
   "execution_count": null,
   "metadata": {},
   "outputs": [],
   "source": []
  }
 ],
 "metadata": {
  "kernelspec": {
   "display_name": "base",
   "language": "python",
   "name": "python3"
  },
  "language_info": {
   "codemirror_mode": {
    "name": "ipython",
    "version": 3
   },
   "file_extension": ".py",
   "mimetype": "text/x-python",
   "name": "python",
   "nbconvert_exporter": "python",
   "pygments_lexer": "ipython3",
   "version": "3.11.4"
  }
 },
 "nbformat": 4,
 "nbformat_minor": 2
}
