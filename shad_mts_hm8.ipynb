{
 "cells": [
  {
   "cell_type": "markdown",
   "metadata": {},
   "source": [
    "Будем использовать датасет telecom_dataset.csv\n",
    "https://code.s3.yandex.net/datasets/telecom_dataset.csv\n",
    "\n",
    "user_id — идентификатор клиентского аккаунта в сервисе;\n",
    "date — дата статистики;\n",
    "direction — направление вызовов (out - исходящий вызов, in — входящий вызов);\n",
    "internal — является ли звонок внутренним звонком между операторами клиента;\n",
    "operator_id — идентификатор оператора;\n",
    "is_missed_call — является ли звонок пропущенным;\n",
    "calls_count — количество звонков;\n",
    "call_duration — длительность звонка (без учета времени ожидания);\n",
    "total_call_duration — длительность звонка (с учетом времени ожидания)."
   ]
  },
  {
   "cell_type": "code",
   "execution_count": 12,
   "metadata": {},
   "outputs": [],
   "source": [
    "import pandas as pd\n",
    "import numpy as np\n",
    "df = pd.read_csv('telecom_dataset.csv')\n",
    "df['date'] = pd.to_datetime(df['date'])\n"
   ]
  },
  {
   "cell_type": "code",
   "execution_count": 13,
   "metadata": {},
   "outputs": [
    {
     "data": {
      "text/plain": [
       "(53902, 9)"
      ]
     },
     "execution_count": 13,
     "metadata": {},
     "output_type": "execute_result"
    }
   ],
   "source": [
    "df.shape"
   ]
  },
  {
   "cell_type": "code",
   "execution_count": 14,
   "metadata": {},
   "outputs": [
    {
     "data": {
      "text/html": [
       "<div>\n",
       "<style scoped>\n",
       "    .dataframe tbody tr th:only-of-type {\n",
       "        vertical-align: middle;\n",
       "    }\n",
       "\n",
       "    .dataframe tbody tr th {\n",
       "        vertical-align: top;\n",
       "    }\n",
       "\n",
       "    .dataframe thead th {\n",
       "        text-align: right;\n",
       "    }\n",
       "</style>\n",
       "<table border=\"1\" class=\"dataframe\">\n",
       "  <thead>\n",
       "    <tr style=\"text-align: right;\">\n",
       "      <th></th>\n",
       "      <th>user_id</th>\n",
       "      <th>date</th>\n",
       "      <th>direction</th>\n",
       "      <th>internal</th>\n",
       "      <th>operator_id</th>\n",
       "      <th>is_missed_call</th>\n",
       "      <th>calls_count</th>\n",
       "      <th>call_duration</th>\n",
       "      <th>total_call_duration</th>\n",
       "    </tr>\n",
       "  </thead>\n",
       "  <tbody>\n",
       "    <tr>\n",
       "      <th>0</th>\n",
       "      <td>166377</td>\n",
       "      <td>2019-08-04 00:00:00+03:00</td>\n",
       "      <td>in</td>\n",
       "      <td>False</td>\n",
       "      <td>NaN</td>\n",
       "      <td>True</td>\n",
       "      <td>2</td>\n",
       "      <td>0</td>\n",
       "      <td>4</td>\n",
       "    </tr>\n",
       "    <tr>\n",
       "      <th>1</th>\n",
       "      <td>166377</td>\n",
       "      <td>2019-08-05 00:00:00+03:00</td>\n",
       "      <td>out</td>\n",
       "      <td>True</td>\n",
       "      <td>880022.0</td>\n",
       "      <td>True</td>\n",
       "      <td>3</td>\n",
       "      <td>0</td>\n",
       "      <td>5</td>\n",
       "    </tr>\n",
       "    <tr>\n",
       "      <th>2</th>\n",
       "      <td>166377</td>\n",
       "      <td>2019-08-05 00:00:00+03:00</td>\n",
       "      <td>out</td>\n",
       "      <td>True</td>\n",
       "      <td>880020.0</td>\n",
       "      <td>True</td>\n",
       "      <td>1</td>\n",
       "      <td>0</td>\n",
       "      <td>1</td>\n",
       "    </tr>\n",
       "    <tr>\n",
       "      <th>3</th>\n",
       "      <td>166377</td>\n",
       "      <td>2019-08-05 00:00:00+03:00</td>\n",
       "      <td>out</td>\n",
       "      <td>True</td>\n",
       "      <td>880020.0</td>\n",
       "      <td>False</td>\n",
       "      <td>1</td>\n",
       "      <td>10</td>\n",
       "      <td>18</td>\n",
       "    </tr>\n",
       "    <tr>\n",
       "      <th>4</th>\n",
       "      <td>166377</td>\n",
       "      <td>2019-08-05 00:00:00+03:00</td>\n",
       "      <td>out</td>\n",
       "      <td>False</td>\n",
       "      <td>880022.0</td>\n",
       "      <td>True</td>\n",
       "      <td>3</td>\n",
       "      <td>0</td>\n",
       "      <td>25</td>\n",
       "    </tr>\n",
       "  </tbody>\n",
       "</table>\n",
       "</div>"
      ],
      "text/plain": [
       "   user_id                      date direction internal  operator_id  \\\n",
       "0   166377 2019-08-04 00:00:00+03:00        in    False          NaN   \n",
       "1   166377 2019-08-05 00:00:00+03:00       out     True     880022.0   \n",
       "2   166377 2019-08-05 00:00:00+03:00       out     True     880020.0   \n",
       "3   166377 2019-08-05 00:00:00+03:00       out     True     880020.0   \n",
       "4   166377 2019-08-05 00:00:00+03:00       out    False     880022.0   \n",
       "\n",
       "   is_missed_call  calls_count  call_duration  total_call_duration  \n",
       "0            True            2              0                    4  \n",
       "1            True            3              0                    5  \n",
       "2            True            1              0                    1  \n",
       "3           False            1             10                   18  \n",
       "4            True            3              0                   25  "
      ]
     },
     "execution_count": 14,
     "metadata": {},
     "output_type": "execute_result"
    }
   ],
   "source": [
    "df.head()"
   ]
  },
  {
   "cell_type": "markdown",
   "metadata": {},
   "source": [
    "Мы будем рассматривать данные за 3 месяца"
   ]
  },
  {
   "cell_type": "code",
   "execution_count": 15,
   "metadata": {},
   "outputs": [
    {
     "data": {
      "text/html": [
       "<div>\n",
       "<style scoped>\n",
       "    .dataframe tbody tr th:only-of-type {\n",
       "        vertical-align: middle;\n",
       "    }\n",
       "\n",
       "    .dataframe tbody tr th {\n",
       "        vertical-align: top;\n",
       "    }\n",
       "\n",
       "    .dataframe thead th {\n",
       "        text-align: right;\n",
       "    }\n",
       "</style>\n",
       "<table border=\"1\" class=\"dataframe\">\n",
       "  <thead>\n",
       "    <tr style=\"text-align: right;\">\n",
       "      <th></th>\n",
       "      <th>user_id</th>\n",
       "      <th>date</th>\n",
       "      <th>direction</th>\n",
       "      <th>internal</th>\n",
       "      <th>operator_id</th>\n",
       "      <th>is_missed_call</th>\n",
       "      <th>calls_count</th>\n",
       "      <th>call_duration</th>\n",
       "      <th>total_call_duration</th>\n",
       "    </tr>\n",
       "  </thead>\n",
       "  <tbody>\n",
       "    <tr>\n",
       "      <th>118</th>\n",
       "      <td>166377</td>\n",
       "      <td>2019-09-02 00:00:00+03:00</td>\n",
       "      <td>in</td>\n",
       "      <td>False</td>\n",
       "      <td>880028.0</td>\n",
       "      <td>False</td>\n",
       "      <td>2</td>\n",
       "      <td>66</td>\n",
       "      <td>75</td>\n",
       "    </tr>\n",
       "    <tr>\n",
       "      <th>119</th>\n",
       "      <td>166377</td>\n",
       "      <td>2019-09-02 00:00:00+03:00</td>\n",
       "      <td>in</td>\n",
       "      <td>False</td>\n",
       "      <td>880026.0</td>\n",
       "      <td>False</td>\n",
       "      <td>1</td>\n",
       "      <td>31</td>\n",
       "      <td>34</td>\n",
       "    </tr>\n",
       "    <tr>\n",
       "      <th>120</th>\n",
       "      <td>166377</td>\n",
       "      <td>2019-09-02 00:00:00+03:00</td>\n",
       "      <td>out</td>\n",
       "      <td>False</td>\n",
       "      <td>880026.0</td>\n",
       "      <td>False</td>\n",
       "      <td>16</td>\n",
       "      <td>1853</td>\n",
       "      <td>1983</td>\n",
       "    </tr>\n",
       "    <tr>\n",
       "      <th>121</th>\n",
       "      <td>166377</td>\n",
       "      <td>2019-09-02 00:00:00+03:00</td>\n",
       "      <td>out</td>\n",
       "      <td>False</td>\n",
       "      <td>880026.0</td>\n",
       "      <td>True</td>\n",
       "      <td>6</td>\n",
       "      <td>0</td>\n",
       "      <td>168</td>\n",
       "    </tr>\n",
       "    <tr>\n",
       "      <th>122</th>\n",
       "      <td>166377</td>\n",
       "      <td>2019-09-02 00:00:00+03:00</td>\n",
       "      <td>out</td>\n",
       "      <td>False</td>\n",
       "      <td>880028.0</td>\n",
       "      <td>False</td>\n",
       "      <td>20</td>\n",
       "      <td>2529</td>\n",
       "      <td>2687</td>\n",
       "    </tr>\n",
       "  </tbody>\n",
       "</table>\n",
       "</div>"
      ],
      "text/plain": [
       "     user_id                      date direction internal  operator_id  \\\n",
       "118   166377 2019-09-02 00:00:00+03:00        in    False     880028.0   \n",
       "119   166377 2019-09-02 00:00:00+03:00        in    False     880026.0   \n",
       "120   166377 2019-09-02 00:00:00+03:00       out    False     880026.0   \n",
       "121   166377 2019-09-02 00:00:00+03:00       out    False     880026.0   \n",
       "122   166377 2019-09-02 00:00:00+03:00       out    False     880028.0   \n",
       "\n",
       "     is_missed_call  calls_count  call_duration  total_call_duration  \n",
       "118           False            2             66                   75  \n",
       "119           False            1             31                   34  \n",
       "120           False           16           1853                 1983  \n",
       "121            True            6              0                  168  \n",
       "122           False           20           2529                 2687  "
      ]
     },
     "execution_count": 15,
     "metadata": {},
     "output_type": "execute_result"
    }
   ],
   "source": [
    "start_date = '2019-09-01'\n",
    "end_date = '2019-12-31'\n",
    "df = df[(df['date'] >= start_date) & (df['date'] <= end_date)]\n",
    "df.head()\n"
   ]
  },
  {
   "cell_type": "code",
   "execution_count": 16,
   "metadata": {},
   "outputs": [
    {
     "data": {
      "text/plain": [
       "(51865, 9)"
      ]
     },
     "execution_count": 16,
     "metadata": {},
     "output_type": "execute_result"
    }
   ],
   "source": [
    "df.shape"
   ]
  },
  {
   "cell_type": "markdown",
   "metadata": {},
   "source": [
    "Далее удобно сгруппировать данные по неделям."
   ]
  },
  {
   "cell_type": "code",
   "execution_count": 17,
   "metadata": {},
   "outputs": [
    {
     "data": {
      "text/html": [
       "<div>\n",
       "<style scoped>\n",
       "    .dataframe tbody tr th:only-of-type {\n",
       "        vertical-align: middle;\n",
       "    }\n",
       "\n",
       "    .dataframe tbody tr th {\n",
       "        vertical-align: top;\n",
       "    }\n",
       "\n",
       "    .dataframe thead th {\n",
       "        text-align: right;\n",
       "    }\n",
       "</style>\n",
       "<table border=\"1\" class=\"dataframe\">\n",
       "  <thead>\n",
       "    <tr style=\"text-align: right;\">\n",
       "      <th></th>\n",
       "      <th>user_id</th>\n",
       "      <th>date</th>\n",
       "      <th>direction</th>\n",
       "      <th>internal</th>\n",
       "      <th>operator_id</th>\n",
       "      <th>is_missed_call</th>\n",
       "      <th>calls_count</th>\n",
       "      <th>call_duration</th>\n",
       "      <th>total_call_duration</th>\n",
       "      <th>year_week</th>\n",
       "    </tr>\n",
       "  </thead>\n",
       "  <tbody>\n",
       "    <tr>\n",
       "      <th>118</th>\n",
       "      <td>166377</td>\n",
       "      <td>2019-09-02 00:00:00+03:00</td>\n",
       "      <td>in</td>\n",
       "      <td>False</td>\n",
       "      <td>880028.0</td>\n",
       "      <td>False</td>\n",
       "      <td>2</td>\n",
       "      <td>66</td>\n",
       "      <td>75</td>\n",
       "      <td>2019-35</td>\n",
       "    </tr>\n",
       "    <tr>\n",
       "      <th>119</th>\n",
       "      <td>166377</td>\n",
       "      <td>2019-09-02 00:00:00+03:00</td>\n",
       "      <td>in</td>\n",
       "      <td>False</td>\n",
       "      <td>880026.0</td>\n",
       "      <td>False</td>\n",
       "      <td>1</td>\n",
       "      <td>31</td>\n",
       "      <td>34</td>\n",
       "      <td>2019-35</td>\n",
       "    </tr>\n",
       "    <tr>\n",
       "      <th>120</th>\n",
       "      <td>166377</td>\n",
       "      <td>2019-09-02 00:00:00+03:00</td>\n",
       "      <td>out</td>\n",
       "      <td>False</td>\n",
       "      <td>880026.0</td>\n",
       "      <td>False</td>\n",
       "      <td>16</td>\n",
       "      <td>1853</td>\n",
       "      <td>1983</td>\n",
       "      <td>2019-35</td>\n",
       "    </tr>\n",
       "    <tr>\n",
       "      <th>121</th>\n",
       "      <td>166377</td>\n",
       "      <td>2019-09-02 00:00:00+03:00</td>\n",
       "      <td>out</td>\n",
       "      <td>False</td>\n",
       "      <td>880026.0</td>\n",
       "      <td>True</td>\n",
       "      <td>6</td>\n",
       "      <td>0</td>\n",
       "      <td>168</td>\n",
       "      <td>2019-35</td>\n",
       "    </tr>\n",
       "    <tr>\n",
       "      <th>122</th>\n",
       "      <td>166377</td>\n",
       "      <td>2019-09-02 00:00:00+03:00</td>\n",
       "      <td>out</td>\n",
       "      <td>False</td>\n",
       "      <td>880028.0</td>\n",
       "      <td>False</td>\n",
       "      <td>20</td>\n",
       "      <td>2529</td>\n",
       "      <td>2687</td>\n",
       "      <td>2019-35</td>\n",
       "    </tr>\n",
       "  </tbody>\n",
       "</table>\n",
       "</div>"
      ],
      "text/plain": [
       "     user_id                      date direction internal  operator_id  \\\n",
       "118   166377 2019-09-02 00:00:00+03:00        in    False     880028.0   \n",
       "119   166377 2019-09-02 00:00:00+03:00        in    False     880026.0   \n",
       "120   166377 2019-09-02 00:00:00+03:00       out    False     880026.0   \n",
       "121   166377 2019-09-02 00:00:00+03:00       out    False     880026.0   \n",
       "122   166377 2019-09-02 00:00:00+03:00       out    False     880028.0   \n",
       "\n",
       "     is_missed_call  calls_count  call_duration  total_call_duration year_week  \n",
       "118           False            2             66                   75   2019-35  \n",
       "119           False            1             31                   34   2019-35  \n",
       "120           False           16           1853                 1983   2019-35  \n",
       "121            True            6              0                  168   2019-35  \n",
       "122           False           20           2529                 2687   2019-35  "
      ]
     },
     "execution_count": 17,
     "metadata": {},
     "output_type": "execute_result"
    }
   ],
   "source": [
    "df['year_week'] = df['date'].dt.strftime('%Y-%U') \n",
    "df.head()"
   ]
  },
  {
   "cell_type": "code",
   "execution_count": 18,
   "metadata": {},
   "outputs": [
    {
     "data": {
      "text/html": [
       "<div>\n",
       "<style scoped>\n",
       "    .dataframe tbody tr th:only-of-type {\n",
       "        vertical-align: middle;\n",
       "    }\n",
       "\n",
       "    .dataframe tbody tr th {\n",
       "        vertical-align: top;\n",
       "    }\n",
       "\n",
       "    .dataframe thead th {\n",
       "        text-align: right;\n",
       "    }\n",
       "</style>\n",
       "<table border=\"1\" class=\"dataframe\">\n",
       "  <thead>\n",
       "    <tr style=\"text-align: right;\">\n",
       "      <th></th>\n",
       "      <th>user_id</th>\n",
       "      <th>year_week</th>\n",
       "      <th>call_duration</th>\n",
       "      <th>is_missed_call</th>\n",
       "      <th>missed_flag</th>\n",
       "    </tr>\n",
       "  </thead>\n",
       "  <tbody>\n",
       "    <tr>\n",
       "      <th>0</th>\n",
       "      <td>166377</td>\n",
       "      <td>2019-35</td>\n",
       "      <td>22365</td>\n",
       "      <td>22</td>\n",
       "      <td>1</td>\n",
       "    </tr>\n",
       "    <tr>\n",
       "      <th>1</th>\n",
       "      <td>166377</td>\n",
       "      <td>2019-36</td>\n",
       "      <td>21592</td>\n",
       "      <td>23</td>\n",
       "      <td>1</td>\n",
       "    </tr>\n",
       "    <tr>\n",
       "      <th>2</th>\n",
       "      <td>166377</td>\n",
       "      <td>2019-37</td>\n",
       "      <td>21062</td>\n",
       "      <td>18</td>\n",
       "      <td>1</td>\n",
       "    </tr>\n",
       "    <tr>\n",
       "      <th>3</th>\n",
       "      <td>166377</td>\n",
       "      <td>2019-38</td>\n",
       "      <td>28715</td>\n",
       "      <td>18</td>\n",
       "      <td>1</td>\n",
       "    </tr>\n",
       "    <tr>\n",
       "      <th>4</th>\n",
       "      <td>166377</td>\n",
       "      <td>2019-39</td>\n",
       "      <td>15124</td>\n",
       "      <td>14</td>\n",
       "      <td>1</td>\n",
       "    </tr>\n",
       "  </tbody>\n",
       "</table>\n",
       "</div>"
      ],
      "text/plain": [
       "   user_id year_week  call_duration  is_missed_call  missed_flag\n",
       "0   166377   2019-35          22365              22            1\n",
       "1   166377   2019-36          21592              23            1\n",
       "2   166377   2019-37          21062              18            1\n",
       "3   166377   2019-38          28715              18            1\n",
       "4   166377   2019-39          15124              14            1"
      ]
     },
     "execution_count": 18,
     "metadata": {},
     "output_type": "execute_result"
    }
   ],
   "source": [
    "weekly = (df.groupby(['user_id', 'year_week'], as_index=False).agg({'call_duration': 'sum',  'is_missed_call': 'sum'}))\n",
    "weekly['missed_flag'] = (weekly['is_missed_call'] > 0).astype(int)\n",
    "weekly.head()\n"
   ]
  },
  {
   "cell_type": "code",
   "execution_count": 19,
   "metadata": {},
   "outputs": [
    {
     "data": {
      "text/plain": [
       "0.9201171058134672"
      ]
     },
     "execution_count": 19,
     "metadata": {},
     "output_type": "execute_result"
    }
   ],
   "source": [
    "weekly['missed_flag'].mean()"
   ]
  },
  {
   "cell_type": "markdown",
   "metadata": {},
   "source": [
    "Посмотрим на распределения как они изменяются от недели к неделе, для начала посмтроим гистограммы непрерывной метрики\n"
   ]
  },
  {
   "cell_type": "code",
   "execution_count": 20,
   "metadata": {},
   "outputs": [
    {
     "name": "stderr",
     "output_type": "stream",
     "text": [
      "c:\\Users\\artem\\OneDrive\\Рабочий стол\\модели машинного обучения\\.venv\\Lib\\site-packages\\seaborn\\_oldcore.py:1119: FutureWarning: use_inf_as_na option is deprecated and will be removed in a future version. Convert inf values to NaN before operating instead.\n",
      "  with pd.option_context('mode.use_inf_as_na', True):\n",
      "c:\\Users\\artem\\OneDrive\\Рабочий стол\\модели машинного обучения\\.venv\\Lib\\site-packages\\seaborn\\_oldcore.py:1119: FutureWarning: use_inf_as_na option is deprecated and will be removed in a future version. Convert inf values to NaN before operating instead.\n",
      "  with pd.option_context('mode.use_inf_as_na', True):\n",
      "c:\\Users\\artem\\OneDrive\\Рабочий стол\\модели машинного обучения\\.venv\\Lib\\site-packages\\seaborn\\_oldcore.py:1119: FutureWarning: use_inf_as_na option is deprecated and will be removed in a future version. Convert inf values to NaN before operating instead.\n",
      "  with pd.option_context('mode.use_inf_as_na', True):\n",
      "c:\\Users\\artem\\OneDrive\\Рабочий стол\\модели машинного обучения\\.venv\\Lib\\site-packages\\seaborn\\_oldcore.py:1119: FutureWarning: use_inf_as_na option is deprecated and will be removed in a future version. Convert inf values to NaN before operating instead.\n",
      "  with pd.option_context('mode.use_inf_as_na', True):\n",
      "c:\\Users\\artem\\OneDrive\\Рабочий стол\\модели машинного обучения\\.venv\\Lib\\site-packages\\seaborn\\_oldcore.py:1119: FutureWarning: use_inf_as_na option is deprecated and will be removed in a future version. Convert inf values to NaN before operating instead.\n",
      "  with pd.option_context('mode.use_inf_as_na', True):\n",
      "c:\\Users\\artem\\OneDrive\\Рабочий стол\\модели машинного обучения\\.venv\\Lib\\site-packages\\seaborn\\_oldcore.py:1119: FutureWarning: use_inf_as_na option is deprecated and will be removed in a future version. Convert inf values to NaN before operating instead.\n",
      "  with pd.option_context('mode.use_inf_as_na', True):\n",
      "c:\\Users\\artem\\OneDrive\\Рабочий стол\\модели машинного обучения\\.venv\\Lib\\site-packages\\seaborn\\_oldcore.py:1119: FutureWarning: use_inf_as_na option is deprecated and will be removed in a future version. Convert inf values to NaN before operating instead.\n",
      "  with pd.option_context('mode.use_inf_as_na', True):\n",
      "c:\\Users\\artem\\OneDrive\\Рабочий стол\\модели машинного обучения\\.venv\\Lib\\site-packages\\seaborn\\_oldcore.py:1119: FutureWarning: use_inf_as_na option is deprecated and will be removed in a future version. Convert inf values to NaN before operating instead.\n",
      "  with pd.option_context('mode.use_inf_as_na', True):\n",
      "c:\\Users\\artem\\OneDrive\\Рабочий стол\\модели машинного обучения\\.venv\\Lib\\site-packages\\seaborn\\_oldcore.py:1119: FutureWarning: use_inf_as_na option is deprecated and will be removed in a future version. Convert inf values to NaN before operating instead.\n",
      "  with pd.option_context('mode.use_inf_as_na', True):\n",
      "c:\\Users\\artem\\OneDrive\\Рабочий стол\\модели машинного обучения\\.venv\\Lib\\site-packages\\seaborn\\_oldcore.py:1119: FutureWarning: use_inf_as_na option is deprecated and will be removed in a future version. Convert inf values to NaN before operating instead.\n",
      "  with pd.option_context('mode.use_inf_as_na', True):\n",
      "c:\\Users\\artem\\OneDrive\\Рабочий стол\\модели машинного обучения\\.venv\\Lib\\site-packages\\seaborn\\_oldcore.py:1119: FutureWarning: use_inf_as_na option is deprecated and will be removed in a future version. Convert inf values to NaN before operating instead.\n",
      "  with pd.option_context('mode.use_inf_as_na', True):\n",
      "c:\\Users\\artem\\OneDrive\\Рабочий стол\\модели машинного обучения\\.venv\\Lib\\site-packages\\seaborn\\_oldcore.py:1119: FutureWarning: use_inf_as_na option is deprecated and will be removed in a future version. Convert inf values to NaN before operating instead.\n",
      "  with pd.option_context('mode.use_inf_as_na', True):\n",
      "c:\\Users\\artem\\OneDrive\\Рабочий стол\\модели машинного обучения\\.venv\\Lib\\site-packages\\seaborn\\_oldcore.py:1119: FutureWarning: use_inf_as_na option is deprecated and will be removed in a future version. Convert inf values to NaN before operating instead.\n",
      "  with pd.option_context('mode.use_inf_as_na', True):\n"
     ]
    },
    {
     "data": {
      "image/png": "[encoded data removed]",
      "text/plain": [
       "<Figure size 1200x600 with 1 Axes>"
      ]
     },
     "metadata": {},
     "output_type": "display_data"
    }
   ],
   "source": [
    "import seaborn as sns\n",
    "import matplotlib.pyplot as plt\n",
    "\n",
    "# Обрабатываем NaN и inf значения\n",
    "weekly_cleaned = weekly[~weekly['call_duration'].isin([float('inf'), -float('inf')])]  # Убираем inf\n",
    "weekly_cleaned = weekly_cleaned[~weekly_cleaned['call_duration'].isna()]  # Убираем NaN\n",
    "weekly_cleaned['call_duration'] = weekly_cleaned['call_duration'].replace([float('inf'), -float('inf')], np.nan)\n",
    "weekly_cleaned['call_duration'] = weekly_cleaned['call_duration'].fillna(weekly_cleaned['call_duration'].median())\n",
    "\n",
    "unique_weeks = sorted(weekly_cleaned['year_week'].unique())\n",
    "\n",
    "plt.figure(figsize=(12, 6))\n",
    "\n",
    "# График KDE для каждой недели\n",
    "for w in unique_weeks:\n",
    "    subset = weekly_cleaned[weekly_cleaned['year_week'] == w]\n",
    "    sns.kdeplot(subset['call_duration'], label=w, fill=False)  # Используем fill вместо shade\n",
    "\n",
    "plt.title('Распределения суммарной длительности звонков по неделям')\n",
    "plt.legend(title='Неделя')\n",
    "plt.show()\n"
   ]
  },
  {
   "cell_type": "markdown",
   "metadata": {},
   "source": [
    "Заметим, что все графики довольно схожи, нет сильных отличий, проверим мы эту догадку статистическим тестом Колмогорова-Смирнова"
   ]
  },
  {
   "cell_type": "code",
   "execution_count": 19,
   "metadata": {},
   "outputs": [
    {
     "name": "stdout",
     "output_type": "stream",
     "text": [
      "Сравнение 2019-35 vs 2019-36: KS-stat=0.079, p-value=0.864\n",
      "Сравнение 2019-36 vs 2019-37: KS-stat=0.054, p-value=0.991\n",
      "Сравнение 2019-37 vs 2019-38: KS-stat=0.107, p-value=0.375\n",
      "Сравнение 2019-38 vs 2019-39: KS-stat=0.069, p-value=0.812\n",
      "Сравнение 2019-39 vs 2019-40: KS-stat=0.056, p-value=0.931\n",
      "Сравнение 2019-40 vs 2019-41: KS-stat=0.054, p-value=0.915\n",
      "Сравнение 2019-41 vs 2019-42: KS-stat=0.049, p-value=0.940\n",
      "Сравнение 2019-42 vs 2019-43: KS-stat=0.042, p-value=0.978\n",
      "Сравнение 2019-43 vs 2019-44: KS-stat=0.044, p-value=0.970\n",
      "Сравнение 2019-44 vs 2019-45: KS-stat=0.061, p-value=0.765\n",
      "Сравнение 2019-45 vs 2019-46: KS-stat=0.108, p-value=0.132\n",
      "Сравнение 2019-46 vs 2019-47: KS-stat=0.055, p-value=0.872\n"
     ]
    }
   ],
   "source": [
    "from scipy.stats import ks_2samp\n",
    "\n",
    "weeks = sorted(weekly['year_week'].unique())\n",
    "\n",
    "for i in range(len(weeks) - 1):\n",
    "    w1 = weeks[i]\n",
    "    w2 = weeks[i+1]\n",
    "    data1 = weekly[weekly['year_week'] == w1]['call_duration']\n",
    "    data2 = weekly[weekly['year_week'] == w2]['call_duration']\n",
    "    \n",
    "    stat, p_value = ks_2samp(data1, data2)\n",
    "    print(f'Сравнение {w1} vs {w2}: KS-stat={stat:.3f}, p-value={p_value:.3f}')\n"
   ]
  },
  {
   "cell_type": "markdown",
   "metadata": {},
   "source": [
    "Заметим, что в каждом нашем сравнении p_value >= 0.05 следовательно можно говорить, что значимых отличий не обнаруженно"
   ]
  },
  {
   "cell_type": "markdown",
   "metadata": {},
   "source": [
    "Далее сравним пропорцию (долю 1) между неделями. Допустим, берём те же соседние недели. В Python можно использовать, например, тест на доли (z-тест). Либо вручную посчитать доверительные интервалы и сравнить их"
   ]
  },
  {
   "cell_type": "code",
   "execution_count": 20,
   "metadata": {},
   "outputs": [
    {
     "name": "stdout",
     "output_type": "stream",
     "text": [
      "Сравнение пропорций 2019-35 vs 2019-36: Z=1.565, p-value=0.118\n",
      "Сравнение пропорций 2019-36 vs 2019-37: Z=-0.765, p-value=0.444\n",
      "Сравнение пропорций 2019-37 vs 2019-38: Z=0.508, p-value=0.612\n",
      "Сравнение пропорций 2019-38 vs 2019-39: Z=-0.107, p-value=0.914\n",
      "Сравнение пропорций 2019-39 vs 2019-40: Z=0.395, p-value=0.693\n",
      "Сравнение пропорций 2019-40 vs 2019-41: Z=0.501, p-value=0.616\n",
      "Сравнение пропорций 2019-41 vs 2019-42: Z=-0.484, p-value=0.628\n",
      "Сравнение пропорций 2019-42 vs 2019-43: Z=-0.423, p-value=0.672\n",
      "Сравнение пропорций 2019-43 vs 2019-44: Z=1.102, p-value=0.270\n",
      "Сравнение пропорций 2019-44 vs 2019-45: Z=-0.236, p-value=0.813\n",
      "Сравнение пропорций 2019-45 vs 2019-46: Z=-0.214, p-value=0.831\n",
      "Сравнение пропорций 2019-46 vs 2019-47: Z=0.228, p-value=0.820\n"
     ]
    }
   ],
   "source": [
    "import math\n",
    "\n",
    "def proportion_test(count1, nobs1, count2, nobs2, alpha=0.05):\n",
    "    p1 = count1 / nobs1\n",
    "    p2 = count2 / nobs2\n",
    "    p = (count1 + count2) / (nobs1 + nobs2) \n",
    "    numerator = p1 - p2\n",
    "    denominator = math.sqrt(p * (1 - p) * (1/nobs1 + 1/nobs2))\n",
    "    z_stat = numerator / denominator\n",
    "    # двусторонний p-value\n",
    "    import mpmath as mp\n",
    "    p_val = 2 * (1 - 0.5*(1 + math.erf(abs(z_stat)/math.sqrt(2))))\n",
    "    return z_stat, p_val\n",
    "\n",
    "weeks = sorted(weekly['year_week'].unique())\n",
    "\n",
    "for i in range(len(weeks) - 1):\n",
    "    w1 = weeks[i]\n",
    "    w2 = weeks[i+1]\n",
    "    subset1 = weekly[weekly['year_week'] == w1]\n",
    "    subset2 = weekly[weekly['year_week'] == w2]\n",
    "\n",
    "    count1 = subset1['missed_flag'].sum() \n",
    "    nobs1 = subset1['missed_flag'].shape[0]\n",
    "    count2 = subset2['missed_flag'].sum()\n",
    "    nobs2 = subset2['missed_flag'].shape[0]\n",
    "\n",
    "    z_stat, p_value = proportion_test(count1, nobs1, count2, nobs2)\n",
    "    print(f'Сравнение пропорций {w1} vs {w2}: Z={z_stat:.3f}, p-value={p_value:.3f}')\n"
   ]
  },
  {
   "cell_type": "markdown",
   "metadata": {},
   "source": [
    "Снова получилось что все значения p_value > 0.05 следовательно можно говорить о незначительных отличиях  доли пользователей с пропущенными звонками в зависимости от недели "
   ]
  },
  {
   "cell_type": "markdown",
   "metadata": {},
   "source": [
    "Для непрерывной метрики использовали Kolmogorov–Smirnov тест (KS-тест), чтобы проверить, изменяются ли распределения суммарной длительности звонков между неделями. Мы поняли что пользователи ведут себя стабильно, нет никаких серьезных изменений"
   ]
  },
  {
   "cell_type": "markdown",
   "metadata": {},
   "source": []
  }
 ],
 "metadata": {
  "kernelspec": {
   "display_name": ".venv",
   "language": "python",
   "name": "python3"
  },
  "language_info": {
   "codemirror_mode": {
    "name": "ipython",
    "version": 3
   },
   "file_extension": ".py",
   "mimetype": "text/x-python",
   "name": "python",
   "nbconvert_exporter": "python",
   "pygments_lexer": "ipython3",
   "version": "3.11.4"
  }
 },
 "nbformat": 4,
 "nbformat_minor": 2
}
