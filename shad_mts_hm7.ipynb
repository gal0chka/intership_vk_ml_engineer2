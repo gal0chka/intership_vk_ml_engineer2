{
 "cells": [
  {
   "cell_type": "code",
   "execution_count": 16,
   "metadata": {},
   "outputs": [],
   "source": [
    "import pandas as pd\n",
    "import random\n",
    "import numpy as np\n",
    "from datetime import datetime, timedelta\n",
    "\n",
    "def generate_youtube_logs_custom(num_rows=20000):\n",
    "    random.seed(42)\n",
    "    user_ids = [f\"user_{random.randint(1000, 9999)}\" for _ in range(500)]\n",
    "    video_ids = [f\"video_{random.randint(100000, 999999)}\" for _ in range(300)] \n",
    "    categories = [\"Music\", \"Gaming\", \"Education\", \"Comedy\", \"News\", \"Sports\", \"Travel\", \"Lifestyle\"] \n",
    "    devices = [\"Web\", \"Android\", \"iOS\", \"Smart TV\"] \n",
    "    start_date = datetime(2022, 1, 1)  \n",
    "    \n",
    "    data = []\n",
    "    for _ in range(num_rows):\n",
    "        user_id = random.choice(user_ids)\n",
    "        video_id = random.choice(video_ids) \n",
    "        category = random.choice(categories) \n",
    "        device = np.random.choice(devices, p=[0.4, 0.35, 0.2, 0.05])\n",
    "        timestamp = start_date + timedelta(seconds=random.randint(0, 31536000)) \n",
    "        watch_duration = np.random.exponential(scale=20) \n",
    "        data.append([user_id, timestamp.strftime(\"%Y-%m-%d %H:%M:%S\"), video_id, category, device, watch_duration])\n",
    "    \n",
    "    columns = [\"user_id\", \"timestamp\", \"video_id\", \"category\", \"device\", \"watch_duration\"]\n",
    "    df = pd.DataFrame(data, columns=columns)\n",
    "    return df\n",
    "\n",
    "youtube_logs_custom = generate_youtube_logs_custom(20000)\n",
    "\n",
    "youtube_logs_custom.to_csv(\"youtube_logs_custom.csv\", index=False)\n",
    "\n"
   ]
  },
  {
   "cell_type": "code",
   "execution_count": 17,
   "metadata": {},
   "outputs": [],
   "source": [
    "# Добавление дискретного показателя\n",
    "bins = [-np.inf, 5, 20, 60, np.inf]\n",
    "labels = [\"very_short\", \"short\", \"medium\", \"long\"]\n",
    "youtube_logs_custom['watch_duration_category'] = pd.cut(youtube_logs_custom['watch_duration'], bins=bins, labels=labels)"
   ]
  },
  {
   "cell_type": "code",
   "execution_count": 18,
   "metadata": {},
   "outputs": [
    {
     "data": {
      "text/html": [
       "<div>\n",
       "<style scoped>\n",
       "    .dataframe tbody tr th:only-of-type {\n",
       "        vertical-align: middle;\n",
       "    }\n",
       "\n",
       "    .dataframe tbody tr th {\n",
       "        vertical-align: top;\n",
       "    }\n",
       "\n",
       "    .dataframe thead th {\n",
       "        text-align: right;\n",
       "    }\n",
       "</style>\n",
       "<table border=\"1\" class=\"dataframe\">\n",
       "  <thead>\n",
       "    <tr style=\"text-align: right;\">\n",
       "      <th></th>\n",
       "      <th>user_id</th>\n",
       "      <th>timestamp</th>\n",
       "      <th>video_id</th>\n",
       "      <th>category</th>\n",
       "      <th>device</th>\n",
       "      <th>watch_duration</th>\n",
       "      <th>watch_duration_category</th>\n",
       "    </tr>\n",
       "  </thead>\n",
       "  <tbody>\n",
       "    <tr>\n",
       "      <th>0</th>\n",
       "      <td>user_4946</td>\n",
       "      <td>2022-04-26 01:13:01</td>\n",
       "      <td>video_609232</td>\n",
       "      <td>Comedy</td>\n",
       "      <td>Web</td>\n",
       "      <td>13.390034</td>\n",
       "      <td>short</td>\n",
       "    </tr>\n",
       "    <tr>\n",
       "      <th>1</th>\n",
       "      <td>user_2827</td>\n",
       "      <td>2022-04-28 09:20:17</td>\n",
       "      <td>video_968962</td>\n",
       "      <td>Education</td>\n",
       "      <td>Web</td>\n",
       "      <td>18.343600</td>\n",
       "      <td>short</td>\n",
       "    </tr>\n",
       "    <tr>\n",
       "      <th>2</th>\n",
       "      <td>user_9935</td>\n",
       "      <td>2022-04-17 12:46:00</td>\n",
       "      <td>video_468900</td>\n",
       "      <td>Education</td>\n",
       "      <td>Web</td>\n",
       "      <td>29.448463</td>\n",
       "      <td>medium</td>\n",
       "    </tr>\n",
       "    <tr>\n",
       "      <th>3</th>\n",
       "      <td>user_1106</td>\n",
       "      <td>2022-09-28 20:24:04</td>\n",
       "      <td>video_998348</td>\n",
       "      <td>News</td>\n",
       "      <td>Android</td>\n",
       "      <td>16.954173</td>\n",
       "      <td>short</td>\n",
       "    </tr>\n",
       "    <tr>\n",
       "      <th>4</th>\n",
       "      <td>user_8305</td>\n",
       "      <td>2022-02-09 20:11:10</td>\n",
       "      <td>video_752483</td>\n",
       "      <td>Lifestyle</td>\n",
       "      <td>iOS</td>\n",
       "      <td>13.873868</td>\n",
       "      <td>short</td>\n",
       "    </tr>\n",
       "  </tbody>\n",
       "</table>\n",
       "</div>"
      ],
      "text/plain": [
       "     user_id            timestamp      video_id   category   device  \\\n",
       "0  user_4946  2022-04-26 01:13:01  video_609232     Comedy      Web   \n",
       "1  user_2827  2022-04-28 09:20:17  video_968962  Education      Web   \n",
       "2  user_9935  2022-04-17 12:46:00  video_468900  Education      Web   \n",
       "3  user_1106  2022-09-28 20:24:04  video_998348       News  Android   \n",
       "4  user_8305  2022-02-09 20:11:10  video_752483  Lifestyle      iOS   \n",
       "\n",
       "   watch_duration watch_duration_category  \n",
       "0       13.390034                   short  \n",
       "1       18.343600                   short  \n",
       "2       29.448463                  medium  \n",
       "3       16.954173                   short  \n",
       "4       13.873868                   short  "
      ]
     },
     "execution_count": 18,
     "metadata": {},
     "output_type": "execute_result"
    }
   ],
   "source": [
    "youtube_logs_custom.head()"
   ]
  },
  {
   "cell_type": "code",
   "execution_count": 19,
   "metadata": {},
   "outputs": [],
   "source": [
    "segment_web = youtube_logs_custom[youtube_logs_custom['device'] == 'Web']\n",
    "segment_ios = youtube_logs_custom[youtube_logs_custom['device'] == 'iOS']\n",
    "segment_news = youtube_logs_custom[youtube_logs_custom['category'] == 'News']\n",
    "segment_music = youtube_logs_custom[youtube_logs_custom['category'] == 'Music']\n",
    "\n",
    "results = {}"
   ]
  },
  {
   "cell_type": "code",
   "execution_count": 20,
   "metadata": {},
   "outputs": [
    {
     "data": {
      "text/html": [
       "<div>\n",
       "<style scoped>\n",
       "    .dataframe tbody tr th:only-of-type {\n",
       "        vertical-align: middle;\n",
       "    }\n",
       "\n",
       "    .dataframe tbody tr th {\n",
       "        vertical-align: top;\n",
       "    }\n",
       "\n",
       "    .dataframe thead th {\n",
       "        text-align: right;\n",
       "    }\n",
       "</style>\n",
       "<table border=\"1\" class=\"dataframe\">\n",
       "  <thead>\n",
       "    <tr style=\"text-align: right;\">\n",
       "      <th></th>\n",
       "      <th>user_id</th>\n",
       "      <th>timestamp</th>\n",
       "      <th>video_id</th>\n",
       "      <th>category</th>\n",
       "      <th>device</th>\n",
       "      <th>watch_duration</th>\n",
       "      <th>watch_duration_category</th>\n",
       "    </tr>\n",
       "  </thead>\n",
       "  <tbody>\n",
       "    <tr>\n",
       "      <th>4</th>\n",
       "      <td>user_8305</td>\n",
       "      <td>2022-02-09 20:11:10</td>\n",
       "      <td>video_752483</td>\n",
       "      <td>Lifestyle</td>\n",
       "      <td>iOS</td>\n",
       "      <td>13.873868</td>\n",
       "      <td>short</td>\n",
       "    </tr>\n",
       "    <tr>\n",
       "      <th>16</th>\n",
       "      <td>user_7304</td>\n",
       "      <td>2022-09-14 11:38:11</td>\n",
       "      <td>video_132537</td>\n",
       "      <td>News</td>\n",
       "      <td>iOS</td>\n",
       "      <td>36.299768</td>\n",
       "      <td>medium</td>\n",
       "    </tr>\n",
       "    <tr>\n",
       "      <th>17</th>\n",
       "      <td>user_3045</td>\n",
       "      <td>2022-03-09 12:03:34</td>\n",
       "      <td>video_497519</td>\n",
       "      <td>Comedy</td>\n",
       "      <td>iOS</td>\n",
       "      <td>10.598586</td>\n",
       "      <td>short</td>\n",
       "    </tr>\n",
       "    <tr>\n",
       "      <th>20</th>\n",
       "      <td>user_1434</td>\n",
       "      <td>2022-10-02 13:18:21</td>\n",
       "      <td>video_801978</td>\n",
       "      <td>News</td>\n",
       "      <td>iOS</td>\n",
       "      <td>6.814110</td>\n",
       "      <td>short</td>\n",
       "    </tr>\n",
       "    <tr>\n",
       "      <th>22</th>\n",
       "      <td>user_3591</td>\n",
       "      <td>2022-06-15 02:34:56</td>\n",
       "      <td>video_271720</td>\n",
       "      <td>Comedy</td>\n",
       "      <td>iOS</td>\n",
       "      <td>6.450724</td>\n",
       "      <td>short</td>\n",
       "    </tr>\n",
       "  </tbody>\n",
       "</table>\n",
       "</div>"
      ],
      "text/plain": [
       "      user_id            timestamp      video_id   category device  \\\n",
       "4   user_8305  2022-02-09 20:11:10  video_752483  Lifestyle    iOS   \n",
       "16  user_7304  2022-09-14 11:38:11  video_132537       News    iOS   \n",
       "17  user_3045  2022-03-09 12:03:34  video_497519     Comedy    iOS   \n",
       "20  user_1434  2022-10-02 13:18:21  video_801978       News    iOS   \n",
       "22  user_3591  2022-06-15 02:34:56  video_271720     Comedy    iOS   \n",
       "\n",
       "    watch_duration watch_duration_category  \n",
       "4        13.873868                   short  \n",
       "16       36.299768                  medium  \n",
       "17       10.598586                   short  \n",
       "20        6.814110                   short  \n",
       "22        6.450724                   short  "
      ]
     },
     "execution_count": 20,
     "metadata": {},
     "output_type": "execute_result"
    }
   ],
   "source": [
    "segment_ios.head()"
   ]
  },
  {
   "cell_type": "markdown",
   "metadata": {},
   "source": [
    "Гипотеза 1 (о медианах для непрерывного показытеля): Показатель: watch_duration (длительность просмотра)\n",
    "\n",
    "Нулевая гипотеза (H₀): Медианы длительности просмотра для категорий устройств Web и Android равны.\n",
    "\n",
    "Альтернативная гипотеза (H₁): Медианы длительности просмотра для категорий устройств Web и Android различаются."
   ]
  },
  {
   "cell_type": "code",
   "execution_count": 22,
   "metadata": {},
   "outputs": [],
   "source": [
    "from scipy.stats import mannwhitneyu, ks_2samp, chi2_contingency\n",
    "web_watch_duration = youtube_logs_custom.loc[youtube_logs_custom['device'] == 'Web', 'watch_duration']\n",
    "android_watch_duration = youtube_logs_custom.loc[youtube_logs_custom['device'] == 'Android', 'watch_duration']\n",
    "stat1, p1 = mannwhitneyu(web_watch_duration, android_watch_duration, alternative='two-sided')\n"
   ]
  },
  {
   "cell_type": "markdown",
   "metadata": {},
   "source": [
    "Гипотеза 2 (о распределении для непрерывного показытеля): Показатель: watch_duration (длительность просмотра)\n",
    "\n",
    "Нулевая гипотеза (H₀): Распределение длительности просмотра для категорий контента Music и Gaming одинаково.\n",
    "\n",
    "Альтернативная гипотеза (H₁): Распределение длительности просмотра для категорий контента Music и Gaming различается."
   ]
  },
  {
   "cell_type": "code",
   "execution_count": 23,
   "metadata": {},
   "outputs": [],
   "source": [
    "music_watch_duration = youtube_logs_custom.loc[youtube_logs_custom['category'] == 'Music', 'watch_duration']\n",
    "gaming_watch_duration = youtube_logs_custom.loc[youtube_logs_custom['category'] == 'Gaming', 'watch_duration']\n",
    "stat2, p2 = ks_2samp(music_watch_duration, gaming_watch_duration)"
   ]
  },
  {
   "cell_type": "markdown",
   "metadata": {},
   "source": [
    "Гипотеза 3 (о медиане для дискретного показытеля): Показатель: watch_duration_category (категория длительности просмотра)\n",
    "\n",
    "Нулевая гипотеза (H₀): Медианные категории длительности просмотра для устройств iOS и Smart TV равны.\n",
    "\n",
    "Альтернативная гипотеза (H₁): Медианные категории длительности просмотра для устройств iOS и Smart TV различаются."
   ]
  },
  {
   "cell_type": "code",
   "execution_count": 24,
   "metadata": {},
   "outputs": [],
   "source": [
    "ios_watch_category = youtube_logs_custom.loc[youtube_logs_custom['device'] == 'iOS', 'watch_duration_category'].value_counts().sort_index()\n",
    "smart_tv_watch_category = youtube_logs_custom.loc[youtube_logs_custom['device'] == 'Smart TV', 'watch_duration_category'].value_counts().sort_index()\n",
    "stat3, p3 = mannwhitneyu(ios_watch_category, smart_tv_watch_category, alternative='two-sided')"
   ]
  },
  {
   "cell_type": "markdown",
   "metadata": {},
   "source": [
    "Гипотеза 4 (о распределении для дискретного показытеля): Показатель: watch_duration_category (категория длительности просмотра)\n",
    "\n",
    "Нулевая гипотеза (H₀): Распределение категорий длительности просмотра для категорий контента Comedy и News одинаково.\n",
    "\n",
    "Альтернативная гипотеза (H₁): Распределение категорий длительности просмотра для категорий контента Comedy и News различается."
   ]
  },
  {
   "cell_type": "code",
   "execution_count": 26,
   "metadata": {},
   "outputs": [],
   "source": [
    "comedy_watch_category = youtube_logs_custom.loc[youtube_logs_custom['category'] == 'Comedy', 'watch_duration_category'].value_counts().reindex(labels, fill_value=0)\n",
    "news_watch_category = youtube_logs_custom.loc[youtube_logs_custom['category'] == 'News', 'watch_duration_category'].value_counts().reindex(labels, fill_value=0)\n",
    "contingency_table = pd.DataFrame({\n",
    "    'Comedy': comedy_watch_category,\n",
    "    'News': news_watch_category\n",
    "}).T\n",
    "stat4, p4, _, _ = chi2_contingency(contingency_table)"
   ]
  },
  {
   "cell_type": "code",
   "execution_count": 27,
   "metadata": {},
   "outputs": [],
   "source": [
    "results = pd.DataFrame({\n",
    "    'Hypothesis': [\n",
    "        'Median (Web vs Android)',\n",
    "        'Distribution (Music vs Gaming)',\n",
    "        'Median (iOS vs Smart TV)',\n",
    "        'Distribution (Comedy vs News)'\n",
    "    ],\n",
    "    'Test Statistic': [stat1, stat2, stat3, stat4],\n",
    "    'p-value': [p1, p2, p3, p4]\n",
    "})"
   ]
  },
  {
   "cell_type": "code",
   "execution_count": 28,
   "metadata": {},
   "outputs": [
    {
     "data": {
      "text/html": [
       "<div>\n",
       "<style scoped>\n",
       "    .dataframe tbody tr th:only-of-type {\n",
       "        vertical-align: middle;\n",
       "    }\n",
       "\n",
       "    .dataframe tbody tr th {\n",
       "        vertical-align: top;\n",
       "    }\n",
       "\n",
       "    .dataframe thead th {\n",
       "        text-align: right;\n",
       "    }\n",
       "</style>\n",
       "<table border=\"1\" class=\"dataframe\">\n",
       "  <thead>\n",
       "    <tr style=\"text-align: right;\">\n",
       "      <th></th>\n",
       "      <th>Hypothesis</th>\n",
       "      <th>Test Statistic</th>\n",
       "      <th>p-value</th>\n",
       "    </tr>\n",
       "  </thead>\n",
       "  <tbody>\n",
       "    <tr>\n",
       "      <th>0</th>\n",
       "      <td>Median (Web vs Android)</td>\n",
       "      <td>2.740441e+07</td>\n",
       "      <td>0.285914</td>\n",
       "    </tr>\n",
       "    <tr>\n",
       "      <th>1</th>\n",
       "      <td>Distribution (Music vs Gaming)</td>\n",
       "      <td>1.598699e-02</td>\n",
       "      <td>0.901389</td>\n",
       "    </tr>\n",
       "    <tr>\n",
       "      <th>2</th>\n",
       "      <td>Median (iOS vs Smart TV)</td>\n",
       "      <td>1.300000e+01</td>\n",
       "      <td>0.200000</td>\n",
       "    </tr>\n",
       "    <tr>\n",
       "      <th>3</th>\n",
       "      <td>Distribution (Comedy vs News)</td>\n",
       "      <td>2.916159e+00</td>\n",
       "      <td>0.404733</td>\n",
       "    </tr>\n",
       "  </tbody>\n",
       "</table>\n",
       "</div>"
      ],
      "text/plain": [
       "                       Hypothesis  Test Statistic   p-value\n",
       "0         Median (Web vs Android)    2.740441e+07  0.285914\n",
       "1  Distribution (Music vs Gaming)    1.598699e-02  0.901389\n",
       "2        Median (iOS vs Smart TV)    1.300000e+01  0.200000\n",
       "3   Distribution (Comedy vs News)    2.916159e+00  0.404733"
      ]
     },
     "execution_count": 28,
     "metadata": {},
     "output_type": "execute_result"
    }
   ],
   "source": [
    "results"
   ]
  },
  {
   "cell_type": "markdown",
   "metadata": {},
   "source": [
    "1. Гипотеза о медиане для непрерывного показателя (Web vs Android)\n",
    "Тест Манна-Уитни\n",
    "Результат: p = 0.285914, гипотеза H0 не отвергается, медианы схожи\n",
    "2. Гипотеза о распределении для непрерывного показателя (Music vs Gaming)\n",
    "Тест Колмогорова-Смирнова\n",
    "Результат: p = 0.901389, гипотеза H0 не отвергается, распределения схожи\n",
    "3. Гипотеза о медиане для дискретного показателя (iOS vs Smart TV)\n",
    "Тест Манна-Уитни\n",
    "Результат: p = 0.2000000, гипотеза H0 не отвергается, медианные категории схожи\n",
    "4. Гипотеза о распределении для дискретного показателя (Comedy vs News)\n",
    "Тест Хи-квадрат\n",
    "Результат: p = 0.404733, гипотеза H0 не отвергается, распределения частот схожи"
   ]
  },
  {
   "cell_type": "code",
   "execution_count": 29,
   "metadata": {},
   "outputs": [],
   "source": [
    "def bootstrap_test(data1, data2, func, num_iterations=1000, alpha=0.05):\n",
    "    observed_diff = func(data1) - func(data2)\n",
    "    combined = np.concatenate([data1, data2])\n",
    "    bootstrap_diffs = []\n",
    "    for _ in range(num_iterations):\n",
    "        np.random.shuffle(combined)\n",
    "        sample1 = combined[:len(data1)]\n",
    "        sample2 = combined[len(data1):]\n",
    "        bootstrap_diffs.append(func(sample1) - func(sample2))\n",
    "    p_value = np.mean(np.abs(bootstrap_diffs) >= np.abs(observed_diff))\n",
    "    return observed_diff, p_value\n",
    "\n",
    "# 1. Бутстрап для медиан (Web vs Android)\n",
    "obs_diff1, p_bootstrap1 = bootstrap_test(web_watch_duration, android_watch_duration, np.median)\n",
    "\n",
    "# 2. Бутстрап для распределений (Music vs Gaming)\n",
    "obs_diff2, p_bootstrap2 = bootstrap_test(music_watch_duration, gaming_watch_duration, np.mean)\n",
    "\n",
    "# 3. Бутстрап для медианных категорий (iOS vs Smart TV)\n",
    "ios_counts = ios_watch_category.values\n",
    "smart_tv_counts = smart_tv_watch_category.values\n",
    "obs_diff3, p_bootstrap3 = bootstrap_test(ios_counts, smart_tv_counts, np.median)\n",
    "\n",
    "# 4. Бутстрап для распределений категорий (Comedy vs News)\n",
    "comedy_counts = comedy_watch_category.values\n",
    "news_counts = news_watch_category.values\n",
    "obs_diff4, p_bootstrap4 = bootstrap_test(comedy_counts, news_counts, np.mean)\n",
    "\n",
    "# Результаты бутстрапа\n",
    "bootstrap_results = pd.DataFrame({\n",
    "    'Hypothesis': [\n",
    "        'Median (Web vs Android)',\n",
    "        'Distribution (Music vs Gaming)',\n",
    "        'Median (iOS vs Smart TV)',\n",
    "        'Distribution (Comedy vs News)'\n",
    "    ],\n",
    "    'Observed Difference': [obs_diff1, obs_diff2, obs_diff3, obs_diff4],\n",
    "    'Bootstrap p-value': [p_bootstrap1, p_bootstrap2, p_bootstrap3, p_bootstrap4]\n",
    "})"
   ]
  },
  {
   "cell_type": "code",
   "execution_count": 30,
   "metadata": {},
   "outputs": [
    {
     "data": {
      "text/html": [
       "<div>\n",
       "<style scoped>\n",
       "    .dataframe tbody tr th:only-of-type {\n",
       "        vertical-align: middle;\n",
       "    }\n",
       "\n",
       "    .dataframe tbody tr th {\n",
       "        vertical-align: top;\n",
       "    }\n",
       "\n",
       "    .dataframe thead th {\n",
       "        text-align: right;\n",
       "    }\n",
       "</style>\n",
       "<table border=\"1\" class=\"dataframe\">\n",
       "  <thead>\n",
       "    <tr style=\"text-align: right;\">\n",
       "      <th></th>\n",
       "      <th>Hypothesis</th>\n",
       "      <th>Observed Difference</th>\n",
       "      <th>Bootstrap p-value</th>\n",
       "    </tr>\n",
       "  </thead>\n",
       "  <tbody>\n",
       "    <tr>\n",
       "      <th>0</th>\n",
       "      <td>Median (Web vs Android)</td>\n",
       "      <td>-0.291438</td>\n",
       "      <td>0.364</td>\n",
       "    </tr>\n",
       "    <tr>\n",
       "      <th>1</th>\n",
       "      <td>Distribution (Music vs Gaming)</td>\n",
       "      <td>-0.400509</td>\n",
       "      <td>0.486</td>\n",
       "    </tr>\n",
       "    <tr>\n",
       "      <th>2</th>\n",
       "      <td>Median (iOS vs Smart TV)</td>\n",
       "      <td>848.000000</td>\n",
       "      <td>0.138</td>\n",
       "    </tr>\n",
       "    <tr>\n",
       "      <th>3</th>\n",
       "      <td>Distribution (Comedy vs News)</td>\n",
       "      <td>-6.750000</td>\n",
       "      <td>0.905</td>\n",
       "    </tr>\n",
       "  </tbody>\n",
       "</table>\n",
       "</div>"
      ],
      "text/plain": [
       "                       Hypothesis  Observed Difference  Bootstrap p-value\n",
       "0         Median (Web vs Android)            -0.291438              0.364\n",
       "1  Distribution (Music vs Gaming)            -0.400509              0.486\n",
       "2        Median (iOS vs Smart TV)           848.000000              0.138\n",
       "3   Distribution (Comedy vs News)            -6.750000              0.905"
      ]
     },
     "execution_count": 30,
     "metadata": {},
     "output_type": "execute_result"
    }
   ],
   "source": [
    "bootstrap_results"
   ]
  },
  {
   "cell_type": "markdown",
   "metadata": {},
   "source": [
    "Бутстрап в целом подтверждает результаты классических тестов, кроме 1 гипотезы"
   ]
  },
  {
   "cell_type": "markdown",
   "metadata": {},
   "source": [
    "Общий вывод: Бутстрап мощнее для сложных распределений и небольших выборок, а классические тесты эфиктивнее при больших выборках и когда гипотезы связаны с конкретными формами распределений."
   ]
  }
 ],
 "metadata": {
  "kernelspec": {
   "display_name": ".venv",
   "language": "python",
   "name": "python3"
  },
  "language_info": {
   "codemirror_mode": {
    "name": "ipython",
    "version": 3
   },
   "file_extension": ".py",
   "mimetype": "text/x-python",
   "name": "python",
   "nbconvert_exporter": "python",
   "pygments_lexer": "ipython3",
   "version": "3.11.4"
  }
 },
 "nbformat": 4,
 "nbformat_minor": 2
}
