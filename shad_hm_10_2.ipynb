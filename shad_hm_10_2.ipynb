{
 "cells": [
  {
   "cell_type": "code",
   "execution_count": 10,
   "metadata": {},
   "outputs": [
    {
     "name": "stdout",
     "output_type": "stream",
     "text": [
      "Iterations and corresponding costs:\n",
      "Iterations: 100, Costs: [18.0, 18.0, 18.0, 18.0, 19.0, 18.0, 19.0, 18.0, 18.0, 18.0]\n",
      "Iterations: 200, Costs: [18.0, 18.0, 18.0, 18.0, 18.0, 18.0, 18.0, 18.0, 18.0, 18.0]\n",
      "Iterations: 500, Costs: [18.0, 18.0, 18.0, 18.0, 18.0, 18.0, 18.0, 18.0, 18.0, 18.0]\n"
     ]
    }
   ],
   "source": [
    "import random\n",
    "import numpy as np\n",
    "from scipy.optimize import dual_annealing\n",
    "\n",
    "cost_matrix = np.array([\n",
    "    [np.inf, 4, 5, 7, 5],\n",
    "    [8, np.inf, 5, 6, 6],\n",
    "    [3, 5, np.inf, 9, 6],\n",
    "    [3, 5, 6, np.inf, 2],\n",
    "    [6, 2, 3, 8, np.inf]\n",
    "])\n",
    "\n",
    "def route_cost(route, cost_matrix):\n",
    "    cost = 0\n",
    "    for i in range(len(route) - 1):\n",
    "        cost += cost_matrix[route[i], route[i + 1]]\n",
    "    cost += cost_matrix[route[-1], route[0]]\n",
    "    return cost\n",
    "\n",
    "def tsp_cost(route, cost_matrix):\n",
    "    route = np.round(route).astype(int)\n",
    "    return route_cost(route, cost_matrix)\n",
    "\n",
    "def random_route(n):\n",
    "    route = list(range(n))\n",
    "    random.shuffle(route)\n",
    "    return route\n",
    "\n",
    "iterations = [100, 200, 500]\n",
    "num_trials = 10 \n",
    "\n",
    "results = {\n",
    "    \"iterations\": [],\n",
    "    \"costs\": [],\n",
    "    \"routes\": []\n",
    "}\n",
    "\n",
    "for iter_count in iterations:\n",
    "    trial_costs = []\n",
    "    trial_routes = []\n",
    "    for _ in range(num_trials):\n",
    "        random_start = random_route(len(cost_matrix))\n",
    "        bounds = [(0, len(cost_matrix)-1) for _ in range(len(cost_matrix))]\n",
    "\n",
    "        result_anneal = dual_annealing(\n",
    "            tsp_cost, bounds=bounds, args=(cost_matrix,), maxiter=iter_count, \n",
    "            initial_temp=1000, restart_temp_ratio=0.1\n",
    "        )\n",
    "\n",
    "        optimal_route_anneal = np.round(result_anneal.x).astype(int)\n",
    "        optimal_cost_anneal = tsp_cost(optimal_route_anneal, cost_matrix)\n",
    "\n",
    "        trial_costs.append(optimal_cost_anneal)\n",
    "        trial_routes.append(optimal_route_anneal)\n",
    "\n",
    "    results[\"iterations\"].append(iter_count)\n",
    "    results[\"costs\"].append(trial_costs)\n",
    "    results[\"routes\"].append(trial_routes)\n",
    "\n",
    "print(\"Iterations and corresponding costs:\")\n",
    "for i, iter_count in enumerate(results[\"iterations\"]):\n",
    "    print(f\"Iterations: {iter_count}, Costs: {results['costs'][i]}\")\n",
    "\n"
   ]
  },
  {
   "cell_type": "code",
   "execution_count": null,
   "metadata": {},
   "outputs": [],
   "source": []
  }
 ],
 "metadata": {
  "kernelspec": {
   "display_name": "base",
   "language": "python",
   "name": "python3"
  },
  "language_info": {
   "codemirror_mode": {
    "name": "ipython",
    "version": 3
   },
   "file_extension": ".py",
   "mimetype": "text/x-python",
   "name": "python",
   "nbconvert_exporter": "python",
   "pygments_lexer": "ipython3",
   "version": "3.11.4"
  }
 },
 "nbformat": 4,
 "nbformat_minor": 2
}
